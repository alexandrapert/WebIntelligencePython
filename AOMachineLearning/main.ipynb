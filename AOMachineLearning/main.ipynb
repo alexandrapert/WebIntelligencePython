{
 "cells": [
  {
   "cell_type": "code",
   "execution_count": 46,
   "metadata": {},
   "outputs": [],
   "source": [
    "import warnings\n",
    "warnings.simplefilter(action='ignore')\n",
    "\n",
    "from utils import data_handler,features_handler\n",
    "\n",
    "import pandas as pd\n",
    "import numpy as np\n",
    "\n",
    "from sklearn.ensemble import RandomForestClassifier\n",
    "from sklearn.model_selection import train_test_split \n",
    "from sklearn.linear_model import LinearRegression,LogisticRegression\n",
    "\n",
    "np.random.seed(100)\n",
    "\n",
    "TEST_SIZE = 0.25\n",
    "SWITCH_SIZE = 0.50"
   ]
  },
  {
   "cell_type": "markdown",
   "metadata": {},
   "source": [
    "# HANDLING DATA"
   ]
  },
  {
   "cell_type": "code",
   "execution_count": 47,
   "metadata": {},
   "outputs": [],
   "source": [
    "# in 2019 I deleted the data after Australian Open and Australian Open data is used for our validation\n",
    "DATASET_PATHS=[]\n",
    "for i in range(2015,2019):\n",
    "            DATASET_PATHS.append(f\"{i}.xlsx\")"
   ]
  },
  {
   "cell_type": "code",
   "execution_count": 48,
   "metadata": {},
   "outputs": [],
   "source": [
    "relevant_columns =[\n",
    "        \"Date\",\"Tournament\",\"Court\",\"Surface\",\n",
    "        \"Round\",\"Best of\",\"Winner\",\"Loser\",\n",
    "        \"WRank\",\"LRank\",\"LPts\",\"WPts\",\"Series\",\n",
    "        \"AvgL\",\"AvgW\"\n",
    "]   "
   ]
  },
  {
   "cell_type": "code",
   "execution_count": 49,
   "metadata": {
    "scrolled": true
   },
   "outputs": [
    {
     "data": {
      "text/html": [
       "<div>\n",
       "<style scoped>\n",
       "    .dataframe tbody tr th:only-of-type {\n",
       "        vertical-align: middle;\n",
       "    }\n",
       "\n",
       "    .dataframe tbody tr th {\n",
       "        vertical-align: top;\n",
       "    }\n",
       "\n",
       "    .dataframe thead th {\n",
       "        text-align: right;\n",
       "    }\n",
       "</style>\n",
       "<table border=\"1\" class=\"dataframe\">\n",
       "  <thead>\n",
       "    <tr style=\"text-align: right;\">\n",
       "      <th></th>\n",
       "      <th>ATP</th>\n",
       "      <th>AvgL</th>\n",
       "      <th>AvgW</th>\n",
       "      <th>B365L</th>\n",
       "      <th>B365W</th>\n",
       "      <th>Best of</th>\n",
       "      <th>Comment</th>\n",
       "      <th>Court</th>\n",
       "      <th>Date</th>\n",
       "      <th>EXL</th>\n",
       "      <th>...</th>\n",
       "      <th>Tournament</th>\n",
       "      <th>W1</th>\n",
       "      <th>W2</th>\n",
       "      <th>W3</th>\n",
       "      <th>W4</th>\n",
       "      <th>W5</th>\n",
       "      <th>WPts</th>\n",
       "      <th>WRank</th>\n",
       "      <th>Winner</th>\n",
       "      <th>Wsets</th>\n",
       "    </tr>\n",
       "  </thead>\n",
       "  <tbody>\n",
       "    <tr>\n",
       "      <td>0</td>\n",
       "      <td>1</td>\n",
       "      <td>1.20</td>\n",
       "      <td>4.31</td>\n",
       "      <td>1.18</td>\n",
       "      <td>4.50</td>\n",
       "      <td>3</td>\n",
       "      <td>Completed</td>\n",
       "      <td>Outdoor</td>\n",
       "      <td>2015-01-05</td>\n",
       "      <td>1.20</td>\n",
       "      <td>...</td>\n",
       "      <td>Brisbane International</td>\n",
       "      <td>6.0</td>\n",
       "      <td>6.0</td>\n",
       "      <td>NaN</td>\n",
       "      <td>NaN</td>\n",
       "      <td>NaN</td>\n",
       "      <td>430.0</td>\n",
       "      <td>125.0</td>\n",
       "      <td>Duckworth J.</td>\n",
       "      <td>2.0</td>\n",
       "    </tr>\n",
       "    <tr>\n",
       "      <td>1</td>\n",
       "      <td>1</td>\n",
       "      <td>1.47</td>\n",
       "      <td>2.62</td>\n",
       "      <td>1.44</td>\n",
       "      <td>2.62</td>\n",
       "      <td>3</td>\n",
       "      <td>Completed</td>\n",
       "      <td>Outdoor</td>\n",
       "      <td>2015-01-05</td>\n",
       "      <td>1.48</td>\n",
       "      <td>...</td>\n",
       "      <td>Brisbane International</td>\n",
       "      <td>6.0</td>\n",
       "      <td>6.0</td>\n",
       "      <td>NaN</td>\n",
       "      <td>NaN</td>\n",
       "      <td>NaN</td>\n",
       "      <td>341.0</td>\n",
       "      <td>149.0</td>\n",
       "      <td>Kokkinakis T.</td>\n",
       "      <td>2.0</td>\n",
       "    </tr>\n",
       "    <tr>\n",
       "      <td>2</td>\n",
       "      <td>1</td>\n",
       "      <td>3.30</td>\n",
       "      <td>1.32</td>\n",
       "      <td>3.50</td>\n",
       "      <td>1.28</td>\n",
       "      <td>3</td>\n",
       "      <td>Completed</td>\n",
       "      <td>Outdoor</td>\n",
       "      <td>2015-01-05</td>\n",
       "      <td>3.20</td>\n",
       "      <td>...</td>\n",
       "      <td>Brisbane International</td>\n",
       "      <td>6.0</td>\n",
       "      <td>6.0</td>\n",
       "      <td>NaN</td>\n",
       "      <td>NaN</td>\n",
       "      <td>NaN</td>\n",
       "      <td>1195.0</td>\n",
       "      <td>31.0</td>\n",
       "      <td>Chardy J.</td>\n",
       "      <td>2.0</td>\n",
       "    </tr>\n",
       "    <tr>\n",
       "      <td>3</td>\n",
       "      <td>1</td>\n",
       "      <td>2.25</td>\n",
       "      <td>1.61</td>\n",
       "      <td>2.25</td>\n",
       "      <td>1.57</td>\n",
       "      <td>3</td>\n",
       "      <td>Completed</td>\n",
       "      <td>Outdoor</td>\n",
       "      <td>2015-01-05</td>\n",
       "      <td>2.30</td>\n",
       "      <td>...</td>\n",
       "      <td>Brisbane International</td>\n",
       "      <td>7.0</td>\n",
       "      <td>7.0</td>\n",
       "      <td>NaN</td>\n",
       "      <td>NaN</td>\n",
       "      <td>NaN</td>\n",
       "      <td>797.0</td>\n",
       "      <td>53.0</td>\n",
       "      <td>Tomic B.</td>\n",
       "      <td>2.0</td>\n",
       "    </tr>\n",
       "    <tr>\n",
       "      <td>4</td>\n",
       "      <td>1</td>\n",
       "      <td>2.53</td>\n",
       "      <td>1.50</td>\n",
       "      <td>2.37</td>\n",
       "      <td>1.53</td>\n",
       "      <td>3</td>\n",
       "      <td>Completed</td>\n",
       "      <td>Outdoor</td>\n",
       "      <td>2015-01-06</td>\n",
       "      <td>2.50</td>\n",
       "      <td>...</td>\n",
       "      <td>Brisbane International</td>\n",
       "      <td>6.0</td>\n",
       "      <td>4.0</td>\n",
       "      <td>6.0</td>\n",
       "      <td>NaN</td>\n",
       "      <td>NaN</td>\n",
       "      <td>705.0</td>\n",
       "      <td>69.0</td>\n",
       "      <td>Kukushkin M.</td>\n",
       "      <td>2.0</td>\n",
       "    </tr>\n",
       "  </tbody>\n",
       "</table>\n",
       "<p>5 rows × 40 columns</p>\n",
       "</div>"
      ],
      "text/plain": [
       "   ATP  AvgL  AvgW  B365L  B365W  Best of    Comment    Court       Date  \\\n",
       "0    1  1.20  4.31   1.18   4.50        3  Completed  Outdoor 2015-01-05   \n",
       "1    1  1.47  2.62   1.44   2.62        3  Completed  Outdoor 2015-01-05   \n",
       "2    1  3.30  1.32   3.50   1.28        3  Completed  Outdoor 2015-01-05   \n",
       "3    1  2.25  1.61   2.25   1.57        3  Completed  Outdoor 2015-01-05   \n",
       "4    1  2.53  1.50   2.37   1.53        3  Completed  Outdoor 2015-01-06   \n",
       "\n",
       "    EXL  ...              Tournament   W1   W2   W3  W4  W5    WPts  WRank  \\\n",
       "0  1.20  ...  Brisbane International  6.0  6.0  NaN NaN NaN   430.0  125.0   \n",
       "1  1.48  ...  Brisbane International  6.0  6.0  NaN NaN NaN   341.0  149.0   \n",
       "2  3.20  ...  Brisbane International  6.0  6.0  NaN NaN NaN  1195.0   31.0   \n",
       "3  2.30  ...  Brisbane International  7.0  7.0  NaN NaN NaN   797.0   53.0   \n",
       "4  2.50  ...  Brisbane International  6.0  4.0  6.0 NaN NaN   705.0   69.0   \n",
       "\n",
       "          Winner  Wsets  \n",
       "0   Duckworth J.    2.0  \n",
       "1  Kokkinakis T.    2.0  \n",
       "2      Chardy J.    2.0  \n",
       "3       Tomic B.    2.0  \n",
       "4   Kukushkin M.    2.0  \n",
       "\n",
       "[5 rows x 40 columns]"
      ]
     },
     "execution_count": 49,
     "metadata": {},
     "output_type": "execute_result"
    }
   ],
   "source": [
    "# Read all the data from the specified years\n",
    "matches_data = pd.concat([pd.read_excel(f) for f in DATASET_PATHS], ignore_index=True,sort=True)\n",
    "matches_data.head()"
   ]
  },
  {
   "cell_type": "code",
   "execution_count": 50,
   "metadata": {
    "scrolled": true
   },
   "outputs": [
    {
     "name": "stdout",
     "output_type": "stream",
     "text": [
      "Finished renaming columns!\n",
      "Finish switching columns!\n",
      "Finish dealing with unwanted values!\n",
      "Finish dealing with non numerical values!\n",
      "Finish dealing with experience feature!\n",
      "Finish dealing with W/L feature!\n"
     ]
    }
   ],
   "source": [
    "# This takes some time (4-5 min)\n",
    "matches_data = data_handler(matches_data,relevant_columns)\n",
    "matches_data = features_handler(matches_data,matches_data)"
   ]
  },
  {
   "cell_type": "markdown",
   "metadata": {},
   "source": [
    "### Deal with the train/test data"
   ]
  },
  {
   "cell_type": "code",
   "execution_count": 51,
   "metadata": {},
   "outputs": [
    {
     "data": {
      "text/html": [
       "<div>\n",
       "<style scoped>\n",
       "    .dataframe tbody tr th:only-of-type {\n",
       "        vertical-align: middle;\n",
       "    }\n",
       "\n",
       "    .dataframe tbody tr th {\n",
       "        vertical-align: top;\n",
       "    }\n",
       "\n",
       "    .dataframe thead th {\n",
       "        text-align: right;\n",
       "    }\n",
       "</style>\n",
       "<table border=\"1\" class=\"dataframe\">\n",
       "  <thead>\n",
       "    <tr style=\"text-align: right;\">\n",
       "      <th></th>\n",
       "      <th>Date</th>\n",
       "      <th>Tournament</th>\n",
       "      <th>Court</th>\n",
       "      <th>Surface</th>\n",
       "      <th>Round</th>\n",
       "      <th>Best of</th>\n",
       "      <th>Series</th>\n",
       "      <th>P1_won</th>\n",
       "      <th>P1</th>\n",
       "      <th>P2</th>\n",
       "      <th>P1Rank</th>\n",
       "      <th>P2Rank</th>\n",
       "      <th>P1Pts</th>\n",
       "      <th>P2Pts</th>\n",
       "      <th>AvgP2</th>\n",
       "      <th>AvgP1</th>\n",
       "      <th>P1_Experince</th>\n",
       "      <th>P2_Experince</th>\n",
       "      <th>P1_W/L</th>\n",
       "      <th>P2_W/L</th>\n",
       "    </tr>\n",
       "  </thead>\n",
       "  <tbody>\n",
       "    <tr>\n",
       "      <td>0</td>\n",
       "      <td>2015-01-05</td>\n",
       "      <td>0</td>\n",
       "      <td>0</td>\n",
       "      <td>0</td>\n",
       "      <td>0</td>\n",
       "      <td>3</td>\n",
       "      <td>0</td>\n",
       "      <td>False</td>\n",
       "      <td>Simon G.</td>\n",
       "      <td>Duckworth J.</td>\n",
       "      <td>21.0</td>\n",
       "      <td>125.0</td>\n",
       "      <td>1730.0</td>\n",
       "      <td>430.0</td>\n",
       "      <td>1.20</td>\n",
       "      <td>4.31</td>\n",
       "      <td>0</td>\n",
       "      <td>0</td>\n",
       "      <td>100.0</td>\n",
       "      <td>100.0</td>\n",
       "    </tr>\n",
       "    <tr>\n",
       "      <td>1</td>\n",
       "      <td>2015-01-05</td>\n",
       "      <td>0</td>\n",
       "      <td>0</td>\n",
       "      <td>0</td>\n",
       "      <td>0</td>\n",
       "      <td>3</td>\n",
       "      <td>0</td>\n",
       "      <td>True</td>\n",
       "      <td>Kokkinakis T.</td>\n",
       "      <td>Benneteau J.</td>\n",
       "      <td>149.0</td>\n",
       "      <td>25.0</td>\n",
       "      <td>341.0</td>\n",
       "      <td>1365.0</td>\n",
       "      <td>1.47</td>\n",
       "      <td>2.62</td>\n",
       "      <td>0</td>\n",
       "      <td>0</td>\n",
       "      <td>100.0</td>\n",
       "      <td>100.0</td>\n",
       "    </tr>\n",
       "    <tr>\n",
       "      <td>2</td>\n",
       "      <td>2015-01-05</td>\n",
       "      <td>0</td>\n",
       "      <td>0</td>\n",
       "      <td>0</td>\n",
       "      <td>0</td>\n",
       "      <td>3</td>\n",
       "      <td>0</td>\n",
       "      <td>True</td>\n",
       "      <td>Chardy J.</td>\n",
       "      <td>Golubev A.</td>\n",
       "      <td>31.0</td>\n",
       "      <td>72.0</td>\n",
       "      <td>1195.0</td>\n",
       "      <td>691.0</td>\n",
       "      <td>3.30</td>\n",
       "      <td>1.32</td>\n",
       "      <td>0</td>\n",
       "      <td>0</td>\n",
       "      <td>100.0</td>\n",
       "      <td>100.0</td>\n",
       "    </tr>\n",
       "    <tr>\n",
       "      <td>3</td>\n",
       "      <td>2015-01-05</td>\n",
       "      <td>0</td>\n",
       "      <td>0</td>\n",
       "      <td>0</td>\n",
       "      <td>0</td>\n",
       "      <td>3</td>\n",
       "      <td>0</td>\n",
       "      <td>False</td>\n",
       "      <td>Querrey S.</td>\n",
       "      <td>Tomic B.</td>\n",
       "      <td>35.0</td>\n",
       "      <td>53.0</td>\n",
       "      <td>1090.0</td>\n",
       "      <td>797.0</td>\n",
       "      <td>2.25</td>\n",
       "      <td>1.61</td>\n",
       "      <td>0</td>\n",
       "      <td>0</td>\n",
       "      <td>100.0</td>\n",
       "      <td>100.0</td>\n",
       "    </tr>\n",
       "    <tr>\n",
       "      <td>4</td>\n",
       "      <td>2015-01-06</td>\n",
       "      <td>0</td>\n",
       "      <td>0</td>\n",
       "      <td>0</td>\n",
       "      <td>0</td>\n",
       "      <td>3</td>\n",
       "      <td>0</td>\n",
       "      <td>True</td>\n",
       "      <td>Kukushkin M.</td>\n",
       "      <td>Copil M.</td>\n",
       "      <td>69.0</td>\n",
       "      <td>201.0</td>\n",
       "      <td>705.0</td>\n",
       "      <td>242.0</td>\n",
       "      <td>2.53</td>\n",
       "      <td>1.50</td>\n",
       "      <td>0</td>\n",
       "      <td>0</td>\n",
       "      <td>100.0</td>\n",
       "      <td>100.0</td>\n",
       "    </tr>\n",
       "  </tbody>\n",
       "</table>\n",
       "</div>"
      ],
      "text/plain": [
       "        Date  Tournament  Court  Surface  Round  Best of  Series  P1_won  \\\n",
       "0 2015-01-05           0      0        0      0        3       0   False   \n",
       "1 2015-01-05           0      0        0      0        3       0    True   \n",
       "2 2015-01-05           0      0        0      0        3       0    True   \n",
       "3 2015-01-05           0      0        0      0        3       0   False   \n",
       "4 2015-01-06           0      0        0      0        3       0    True   \n",
       "\n",
       "              P1            P2  P1Rank  P2Rank   P1Pts   P2Pts  AvgP2  AvgP1  \\\n",
       "0       Simon G.  Duckworth J.    21.0   125.0  1730.0   430.0   1.20   4.31   \n",
       "1  Kokkinakis T.  Benneteau J.   149.0    25.0   341.0  1365.0   1.47   2.62   \n",
       "2      Chardy J.    Golubev A.    31.0    72.0  1195.0   691.0   3.30   1.32   \n",
       "3     Querrey S.      Tomic B.    35.0    53.0  1090.0   797.0   2.25   1.61   \n",
       "4   Kukushkin M.      Copil M.    69.0   201.0   705.0   242.0   2.53   1.50   \n",
       "\n",
       "   P1_Experince  P2_Experince  P1_W/L  P2_W/L  \n",
       "0             0             0   100.0   100.0  \n",
       "1             0             0   100.0   100.0  \n",
       "2             0             0   100.0   100.0  \n",
       "3             0             0   100.0   100.0  \n",
       "4             0             0   100.0   100.0  "
      ]
     },
     "execution_count": 51,
     "metadata": {},
     "output_type": "execute_result"
    }
   ],
   "source": [
    "matches_data.head()"
   ]
  },
  {
   "cell_type": "code",
   "execution_count": 52,
   "metadata": {},
   "outputs": [],
   "source": [
    "#the relevant features for training \n",
    "features = [\n",
    "    \"Tournament\",\"Court\",\n",
    "    \"Surface\",\"Round\",\n",
    "    \"Best of\",\"Series\",\n",
    "    \"P1Rank\",\"P2Rank\",\n",
    "    \"P1_Experince\",\"P2_Experince\",\n",
    "    \"P1_W/L\",\"P2_W/L\",\n",
    "    \"P1Pts\",\"P2Pts\",\n",
    "    \"AvgP1\",\"AvgP2\",\n",
    "]"
   ]
  },
  {
   "cell_type": "code",
   "execution_count": 53,
   "metadata": {},
   "outputs": [
    {
     "name": "stdout",
     "output_type": "stream",
     "text": [
      "Nr of training data:7894\n",
      "Nr of testing data:2632\n"
     ]
    }
   ],
   "source": [
    "# Split the test and train data (our x and y)\n",
    "X_train, X_test, y_train, y_test = train_test_split(matches_data[features], matches_data[\"P1_won\"], test_size = TEST_SIZE) \n",
    "print(f\"Nr of training data:{len(X_train)}\")\n",
    "print(f\"Nr of testing data:{len(X_test)}\")"
   ]
  },
  {
   "cell_type": "markdown",
   "metadata": {},
   "source": [
    "# RANDOM FOREST"
   ]
  },
  {
   "cell_type": "code",
   "execution_count": 54,
   "metadata": {},
   "outputs": [
    {
     "data": {
      "text/plain": [
       "RandomForestClassifier(bootstrap=True, class_weight=None, criterion='gini',\n",
       "                       max_depth=None, max_features='auto', max_leaf_nodes=None,\n",
       "                       min_impurity_decrease=0.0, min_impurity_split=None,\n",
       "                       min_samples_leaf=1, min_samples_split=2,\n",
       "                       min_weight_fraction_leaf=0.0, n_estimators=100, n_jobs=2,\n",
       "                       oob_score=False, random_state=None, verbose=0,\n",
       "                       warm_start=False)"
      ]
     },
     "execution_count": 54,
     "metadata": {},
     "output_type": "execute_result"
    }
   ],
   "source": [
    "# Create the RandomForest Classifier with gini index and fit the training data\n",
    "forest_gini = RandomForestClassifier(n_jobs=2,n_estimators=100,criterion = \"gini\")\n",
    "forest_gini.fit(X_train,y_train)"
   ]
  },
  {
   "cell_type": "code",
   "execution_count": 55,
   "metadata": {},
   "outputs": [
    {
     "data": {
      "text/plain": [
       "RandomForestClassifier(bootstrap=True, class_weight=None, criterion='entropy',\n",
       "                       max_depth=None, max_features='auto', max_leaf_nodes=None,\n",
       "                       min_impurity_decrease=0.0, min_impurity_split=None,\n",
       "                       min_samples_leaf=1, min_samples_split=2,\n",
       "                       min_weight_fraction_leaf=0.0, n_estimators=100, n_jobs=2,\n",
       "                       oob_score=False, random_state=None, verbose=0,\n",
       "                       warm_start=False)"
      ]
     },
     "execution_count": 55,
     "metadata": {},
     "output_type": "execute_result"
    }
   ],
   "source": [
    "# Create the RandomForest Classifier with entropy and fit the training data\n",
    "forest_entropy = RandomForestClassifier(n_jobs=2,n_estimators=100,criterion = \"entropy\")\n",
    "forest_entropy.fit(X_train,y_train)"
   ]
  },
  {
   "cell_type": "code",
   "execution_count": 56,
   "metadata": {},
   "outputs": [
    {
     "name": "stdout",
     "output_type": "stream",
     "text": [
      "The score for the RandomForestClassifier with gini: 0.8126899696048632\n",
      "The score for the RandomForestClassifier with entropy: 0.8119300911854104\n",
      "\n",
      "\n",
      "gini index seems to fit the best:\n",
      "0.8126899696048632\n"
     ]
    }
   ],
   "source": [
    "# Compares the 2 RandomForestClassifier and choose the best\n",
    "\n",
    "score_gini = forest_gini.score(X_test, y_test)\n",
    "score_entropy = forest_entropy.score(X_test, y_test)\n",
    "\n",
    "print(f\"The score for the RandomForestClassifier with gini: {score_gini}\")\n",
    "print(f\"The score for the RandomForestClassifier with entropy: {score_entropy}\")\n",
    "\n",
    "forest = forest_gini  if score_gini > score_entropy else forest_entropy\n",
    "print(\"\\n\")\n",
    "print(\"gini index seems to fit the best:\")\n",
    "print(forest.score(X_test, y_test))"
   ]
  },
  {
   "cell_type": "code",
   "execution_count": 57,
   "metadata": {},
   "outputs": [
    {
     "data": {
      "text/html": [
       "<div>\n",
       "<style scoped>\n",
       "    .dataframe tbody tr th:only-of-type {\n",
       "        vertical-align: middle;\n",
       "    }\n",
       "\n",
       "    .dataframe tbody tr th {\n",
       "        vertical-align: top;\n",
       "    }\n",
       "\n",
       "    .dataframe thead th {\n",
       "        text-align: right;\n",
       "    }\n",
       "</style>\n",
       "<table border=\"1\" class=\"dataframe\">\n",
       "  <thead>\n",
       "    <tr style=\"text-align: right;\">\n",
       "      <th>Predicted Wins</th>\n",
       "      <th>False</th>\n",
       "      <th>True</th>\n",
       "    </tr>\n",
       "    <tr>\n",
       "      <th>Actual Wins</th>\n",
       "      <th></th>\n",
       "      <th></th>\n",
       "    </tr>\n",
       "  </thead>\n",
       "  <tbody>\n",
       "    <tr>\n",
       "      <td>False</td>\n",
       "      <td>1058</td>\n",
       "      <td>229</td>\n",
       "    </tr>\n",
       "    <tr>\n",
       "      <td>True</td>\n",
       "      <td>264</td>\n",
       "      <td>1081</td>\n",
       "    </tr>\n",
       "  </tbody>\n",
       "</table>\n",
       "</div>"
      ],
      "text/plain": [
       "Predicted Wins  False  True \n",
       "Actual Wins                 \n",
       "False            1058    229\n",
       "True              264   1081"
      ]
     },
     "execution_count": 57,
     "metadata": {},
     "output_type": "execute_result"
    }
   ],
   "source": [
    "# Draw a little table to see the actual results\n",
    "preds = forest.predict(X_test)\n",
    "pd.crosstab(y_test, preds, rownames=['Actual Wins'],colnames=['Predicted Wins'])"
   ]
  },
  {
   "cell_type": "markdown",
   "metadata": {},
   "source": [
    "# LOGISTICAL REGRESION"
   ]
  },
  {
   "cell_type": "code",
   "execution_count": 58,
   "metadata": {},
   "outputs": [
    {
     "data": {
      "text/plain": [
       "LogisticRegression(C=1.0, class_weight=None, dual=False, fit_intercept=True,\n",
       "                   intercept_scaling=1, l1_ratio=None, max_iter=2000,\n",
       "                   multi_class='warn', n_jobs=None, penalty='l2',\n",
       "                   random_state=None, solver='warn', tol=0.0001, verbose=0,\n",
       "                   warm_start=False)"
      ]
     },
     "execution_count": 58,
     "metadata": {},
     "output_type": "execute_result"
    }
   ],
   "source": [
    "# Adding regresion\n",
    "regr = LogisticRegression(max_iter=2000)\n",
    "\n",
    "regr.fit(X_train,y_train)"
   ]
  },
  {
   "cell_type": "code",
   "execution_count": 59,
   "metadata": {},
   "outputs": [
    {
     "data": {
      "text/plain": [
       "0.6546352583586627"
      ]
     },
     "execution_count": 59,
     "metadata": {},
     "output_type": "execute_result"
    }
   ],
   "source": [
    "regr.score(X_test, y_test)"
   ]
  },
  {
   "cell_type": "code",
   "execution_count": 60,
   "metadata": {},
   "outputs": [
    {
     "data": {
      "text/html": [
       "<div>\n",
       "<style scoped>\n",
       "    .dataframe tbody tr th:only-of-type {\n",
       "        vertical-align: middle;\n",
       "    }\n",
       "\n",
       "    .dataframe tbody tr th {\n",
       "        vertical-align: top;\n",
       "    }\n",
       "\n",
       "    .dataframe thead th {\n",
       "        text-align: right;\n",
       "    }\n",
       "</style>\n",
       "<table border=\"1\" class=\"dataframe\">\n",
       "  <thead>\n",
       "    <tr style=\"text-align: right;\">\n",
       "      <th>Predicted Wins</th>\n",
       "      <th>False</th>\n",
       "      <th>True</th>\n",
       "    </tr>\n",
       "    <tr>\n",
       "      <th>Actual Wins</th>\n",
       "      <th></th>\n",
       "      <th></th>\n",
       "    </tr>\n",
       "  </thead>\n",
       "  <tbody>\n",
       "    <tr>\n",
       "      <td>False</td>\n",
       "      <td>827</td>\n",
       "      <td>460</td>\n",
       "    </tr>\n",
       "    <tr>\n",
       "      <td>True</td>\n",
       "      <td>449</td>\n",
       "      <td>896</td>\n",
       "    </tr>\n",
       "  </tbody>\n",
       "</table>\n",
       "</div>"
      ],
      "text/plain": [
       "Predicted Wins  False  True \n",
       "Actual Wins                 \n",
       "False             827    460\n",
       "True              449    896"
      ]
     },
     "execution_count": 60,
     "metadata": {},
     "output_type": "execute_result"
    }
   ],
   "source": [
    "preds = regr.predict(X_test)\n",
    "pd.crosstab(y_test, preds, rownames=['Actual Wins'],colnames=['Predicted Wins'])"
   ]
  },
  {
   "cell_type": "markdown",
   "metadata": {},
   "source": [
    "## Trying the classifiers score on the 2019 data"
   ]
  },
  {
   "cell_type": "code",
   "execution_count": 61,
   "metadata": {},
   "outputs": [],
   "source": [
    "TEST_PATH = f\"FullAO.xlsx\"\n",
    "test_df = pd.concat([pd.read_excel(TEST_PATH)], ignore_index=True,sort=True)"
   ]
  },
  {
   "cell_type": "code",
   "execution_count": 62,
   "metadata": {},
   "outputs": [
    {
     "name": "stdout",
     "output_type": "stream",
     "text": [
      "Finished renaming columns!\n",
      "Finish switching columns!\n",
      "Finish dealing with unwanted values!\n",
      "Finish dealing with non numerical values!\n",
      "Finish dealing with experience feature!\n",
      "Finish dealing with W/L feature!\n"
     ]
    }
   ],
   "source": [
    "test_df = data_handler(test_df,relevant_columns)\n",
    "test_df = features_handler(test_df,matches_data)"
   ]
  },
  {
   "cell_type": "code",
   "execution_count": 63,
   "metadata": {},
   "outputs": [],
   "source": [
    "features = [\n",
    "    \"Tournament\",\"Court\",\n",
    "    \"Surface\",\"Round\",\n",
    "    \"Best of\",\"Series\",\n",
    "    \"P1Rank\",\"P2Rank\",\n",
    "    \"P1_Experince\",\"P2_Experince\",\n",
    "    \"P1_W/L\",\"P2_W/L\",\n",
    "    \"P1Pts\",\"P2Pts\",\n",
    "    \"AvgP1\",\"AvgP2\",\n",
    "]"
   ]
  },
  {
   "cell_type": "code",
   "execution_count": 64,
   "metadata": {},
   "outputs": [
    {
     "name": "stdout",
     "output_type": "stream",
     "text": [
      "The score for testing on the 2019 AO with LogisticRegression is: 0.7007874015748031 \n",
      "The score for testing on the 2019 AO with RandomForestClassifier is: 0.8346456692913385 \n"
     ]
    }
   ],
   "source": [
    "print(f\"The score for testing on the 2019 AO with LogisticRegression is: { regr.score(test_df[features], test_df['P1_won']) } \")\n",
    "print(f\"The score for testing on the 2019 AO with RandomForestClassifier is: { forest.score(test_df[features], test_df['P1_won']) } \")"
   ]
  },
  {
   "cell_type": "markdown",
   "metadata": {},
   "source": [
    "## Choosing the best method"
   ]
  },
  {
   "cell_type": "code",
   "execution_count": 65,
   "metadata": {},
   "outputs": [
    {
     "data": {
      "text/html": [
       "<div>\n",
       "<style scoped>\n",
       "    .dataframe tbody tr th:only-of-type {\n",
       "        vertical-align: middle;\n",
       "    }\n",
       "\n",
       "    .dataframe tbody tr th {\n",
       "        vertical-align: top;\n",
       "    }\n",
       "\n",
       "    .dataframe thead th {\n",
       "        text-align: right;\n",
       "    }\n",
       "</style>\n",
       "<table border=\"1\" class=\"dataframe\">\n",
       "  <thead>\n",
       "    <tr style=\"text-align: right;\">\n",
       "      <th></th>\n",
       "      <th>Name</th>\n",
       "      <th>Score</th>\n",
       "    </tr>\n",
       "  </thead>\n",
       "  <tbody>\n",
       "    <tr>\n",
       "      <td>0</td>\n",
       "      <td>LogisticalRegression</td>\n",
       "      <td>0.654635</td>\n",
       "    </tr>\n",
       "    <tr>\n",
       "      <td>1</td>\n",
       "      <td>RandomForestClassifier</td>\n",
       "      <td>0.812690</td>\n",
       "    </tr>\n",
       "  </tbody>\n",
       "</table>\n",
       "</div>"
      ],
      "text/plain": [
       "                     Name     Score\n",
       "0    LogisticalRegression  0.654635\n",
       "1  RandomForestClassifier  0.812690"
      ]
     },
     "execution_count": 65,
     "metadata": {},
     "output_type": "execute_result"
    }
   ],
   "source": [
    "# We have the RandomForestClassifier and the LogisticRegression\n",
    "score_list = [regr.score(X_test, y_test),forest.score(X_test, y_test)]\n",
    "\n",
    "pd.DataFrame.from_dict(\n",
    "    {\n",
    "        \"Name\":[\"LogisticalRegression\",\"RandomForestClassifier\"],\n",
    "        \"Score\":score_list\n",
    "    }\n",
    ")"
   ]
  },
  {
   "cell_type": "markdown",
   "metadata": {},
   "source": [
    "The choice is RandomForestClassifier,having the best score"
   ]
  }
 ],
 "metadata": {
  "kernelspec": {
   "display_name": "Python 3",
   "language": "python",
   "name": "python3"
  },
  "language_info": {
   "codemirror_mode": {
    "name": "ipython",
    "version": 3
   },
   "file_extension": ".py",
   "mimetype": "text/x-python",
   "name": "python",
   "nbconvert_exporter": "python",
   "pygments_lexer": "ipython3",
   "version": "3.7.4"
  }
 },
 "nbformat": 4,
 "nbformat_minor": 2
}
